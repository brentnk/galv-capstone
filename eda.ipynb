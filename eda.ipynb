{
 "cells": [
  {
   "cell_type": "code",
   "execution_count": 3,
   "metadata": {
    "collapsed": false
   },
   "outputs": [
    {
     "ename": "ImportError",
     "evalue": "No module named pyArango.connection",
     "output_type": "error",
     "traceback": [
      "\u001b[1;31m---------------------------------------------------------------------------\u001b[0m",
      "\u001b[1;31mImportError\u001b[0m                               Traceback (most recent call last)",
      "\u001b[1;32m<ipython-input-3-01e48717ad3f>\u001b[0m in \u001b[0;36m<module>\u001b[1;34m()\u001b[0m\n\u001b[0;32m      4\u001b[0m \u001b[1;32mimport\u001b[0m \u001b[0mjson\u001b[0m\u001b[1;33m\u001b[0m\u001b[0m\n\u001b[0;32m      5\u001b[0m \u001b[1;32mimport\u001b[0m \u001b[0mnumpy\u001b[0m \u001b[1;32mas\u001b[0m \u001b[0mnp\u001b[0m\u001b[1;33m\u001b[0m\u001b[0m\n\u001b[1;32m----> 6\u001b[1;33m \u001b[1;32mfrom\u001b[0m \u001b[0mpyArango\u001b[0m\u001b[1;33m.\u001b[0m\u001b[0mconnection\u001b[0m \u001b[1;32mimport\u001b[0m \u001b[1;33m*\u001b[0m\u001b[1;33m\u001b[0m\u001b[0m\n\u001b[0m\u001b[0;32m      7\u001b[0m \u001b[1;32mfrom\u001b[0m \u001b[0mscipy\u001b[0m\u001b[1;33m.\u001b[0m\u001b[0mspatial\u001b[0m\u001b[1;33m.\u001b[0m\u001b[0mdistance\u001b[0m \u001b[1;32mimport\u001b[0m \u001b[0mpdist\u001b[0m\u001b[1;33m\u001b[0m\u001b[0m\n\u001b[0;32m      8\u001b[0m \u001b[1;32mimport\u001b[0m \u001b[0mos\u001b[0m\u001b[1;33m\u001b[0m\u001b[0m\n",
      "\u001b[1;31mImportError\u001b[0m: No module named pyArango.connection"
     ]
    }
   ],
   "source": [
    "import folium\n",
    "from folium import plugins\n",
    "import requests\n",
    "import json\n",
    "import numpy as np\n",
    "from pyArango.connection import *\n",
    "from scipy.spatial.distance import pdist\n",
    "import os\n",
    "from time import sleep\n",
    "import ConfigParser\n",
    "import matplotlib.pyplot as plt\n",
    "%matplotlib inline\n",
    "plt.style.use('bmh')"
   ]
  },
  {
   "cell_type": "code",
   "execution_count": null,
   "metadata": {
    "collapsed": false
   },
   "outputs": [],
   "source": [
    "colors = '#58355e #e03616 #fff689 #cfffb0 #5998c5 #B5FFE1 #93E5AB #65B891 #4E878C #00241B'.split()\n",
    "colors_for_gradient = '#6EEB83 #E4FF1A #E8AA14 #FF5714'.split()\n",
    "color_gradient = dict(zip(np.around(np.linspace(1,0,len(colors_for_gradient)),2),colors_for_gradient))"
   ]
  },
  {
   "cell_type": "code",
   "execution_count": null,
   "metadata": {
    "collapsed": false
   },
   "outputs": [],
   "source": [
    "conn = Connection(username='galvbnk', password='')\n",
    "db   = conn['capstone']\n",
    "col  = db['radar']"
   ]
  },
  {
   "cell_type": "code",
   "execution_count": null,
   "metadata": {
    "collapsed": false
   },
   "outputs": [],
   "source": [
    "config = ConfigParser.RawConfigParser()\n",
    "config.read('./secrets.conf')"
   ]
  },
  {
   "cell_type": "code",
   "execution_count": null,
   "metadata": {
    "collapsed": false
   },
   "outputs": [],
   "source": [
    "search_types = [term.strip() for term in open('./placetypes.txt').readlines()]"
   ]
  },
  {
   "cell_type": "markdown",
   "metadata": {},
   "source": [
    "# Helper Functions"
   ]
  },
  {
   "cell_type": "code",
   "execution_count": null,
   "metadata": {
    "collapsed": false
   },
   "outputs": [],
   "source": [
    "def check_cached(lat=0.0, lon=0.0, terms = {}, meters=500):\n",
    "    aql = ( \"for doc in near('radar', @latt, @lonn, 100, @meters) filter doc.keyword == @keyword && \"\n",
    "            \"doc.name == @name && doc.type == @type return doc\")\n",
    "    bind_vars = {'latt': lat, 'lonn': lon, 'meters': str(meters), 'type': '', 'keyword': '', 'name': ''}\n",
    "    bind_vars.update(terms)\n",
    "    qres = db.AQLQuery(aql, rawResults=False, batchSize=100, bindVars=bind_vars)\n",
    "    \n",
    "    return qres.response['result']"
   ]
  },
  {
   "cell_type": "code",
   "execution_count": null,
   "metadata": {
    "collapsed": false
   },
   "outputs": [],
   "source": [
    "def radar(coords, termdict, db_col, force=False, radius=20000, key='', do_cache=True):\n",
    "    basetermdict = {'type': '', 'keyword': '', 'name': ''}\n",
    "    params = {'location': '{0},{1}'.format(*coords),\n",
    "              'radius': radius,\n",
    "              'key': key}\n",
    "    basetermdict.update(termdict)\n",
    "    params.update(basetermdict)\n",
    "    \n",
    "    root = 'https://maps.googleapis.com/maps/api/place/radarsearch/json'\n",
    "    \n",
    "    cached = check_cached(coords[0], coords[1], terms=basetermdict)\n",
    "    collection = []\n",
    "    \n",
    "    if len(cached) > 0 and not force:\n",
    "        print('Cache hit: {0} {1}'.format(basetermdict, coords))\n",
    "        collection = parse_gresults(cached[0]['response']['results'], params)\n",
    "    else:\n",
    "        print('Cache miss: {0} {1}'.format(basetermdict, coords))\n",
    "        print('requesting...')\n",
    "        r = requests.get(root, params=params, timeout=3)\n",
    "        if r.status_code == requests.codes.ok:\n",
    "            result_doc = r.json()\n",
    "            if result_doc['status'] != 'OK':\n",
    "                print(result_doc.keys())\n",
    "                print('[ERR]{0} request failed: {1}'.format(result_doc['status'],''))#result_doc['error_message']))\n",
    "                return collection\n",
    "            print('[OK] status complete')\n",
    "            collection = parse_gresults(result_doc['results'], params)\n",
    "\n",
    "            if do_cache:\n",
    "                doc = db_col.createDocument(initValues=params)\n",
    "                doc['location'] = coords\n",
    "                doc['response'] = result_doc\n",
    "                doc.save()\n",
    "            print('cached: complete')\n",
    "\n",
    "    return collection"
   ]
  },
  {
   "cell_type": "code",
   "execution_count": null,
   "metadata": {
    "collapsed": true
   },
   "outputs": [],
   "source": [
    "def parse_gresults(results, params):\n",
    "    collection = {'type': 'FeatureCollection', 'features': [] }\n",
    "\n",
    "    for v in results:\n",
    "        collection['features'].append({'properties': {'name':params['keyword']}, 'type': 'Feature', 'geometry': { 'type': 'Point',\n",
    "                       'coordinates': [float(v['geometry']['location']['lng']),float(v['geometry']['location']['lat'])]}})\n",
    "    return collection"
   ]
  },
  {
   "cell_type": "code",
   "execution_count": null,
   "metadata": {
    "collapsed": true
   },
   "outputs": [],
   "source": [
    "def cart2pol(x, y):\n",
    "    rho = np.sqrt(x**2 + y**2)\n",
    "    phi = np.arctan2(y, x)\n",
    "    return np.r_[rho, phi]\n",
    "\n",
    "def pol2cart(rho, phi):\n",
    "    x = rho * np.cos(phi)\n",
    "    y = rho * np.sin(phi)\n",
    "#     print(x.shape, y.shape)\n",
    "    return np.vstack((x, y)).T"
   ]
  },
  {
   "cell_type": "code",
   "execution_count": null,
   "metadata": {
    "collapsed": true
   },
   "outputs": [],
   "source": [
    "def rayleigh_upsample(loc=np.array([0.0,0.0]), mean_shift=1, samples=20, mean=2):\n",
    "    magnitude = np.random.rayleigh(mean, size=samples) * (mean_shift * 1.0 / mean)\n",
    "    direction = np.random.rand(samples) * 2 * 3.141559\n",
    "    return np.atleast_2d(loc) + pol2cart(magnitude, direction)"
   ]
  },
  {
   "cell_type": "code",
   "execution_count": null,
   "metadata": {
    "collapsed": true
   },
   "outputs": [],
   "source": [
    "def plot_parsed_res():\n",
    "    "
   ]
  },
  {
   "cell_type": "markdown",
   "metadata": {},
   "source": [
    "# Main Driver"
   ]
  },
  {
   "cell_type": "code",
   "execution_count": null,
   "metadata": {
    "collapsed": false
   },
   "outputs": [],
   "source": [
    "location = [39.7047, -105.0814]\n",
    "\n",
    "searches = 'grocery;chipotle;'.split(';')\n",
    "\n",
    "res = {}\n",
    "for search in [x for x in searches if len(x) > 0]:\n",
    "    kwparams = {}\n",
    "    if search in search_types:\n",
    "        kwparams['type'] = search\n",
    "    else:\n",
    "        kwparams['keyword'] = search\n",
    "    res[search] = radar(location, kwparams, col, radius=25000, key=config.get('keys', 'google_places_api_key'))"
   ]
  },
  {
   "cell_type": "code",
   "execution_count": null,
   "metadata": {
    "collapsed": false,
    "scrolled": true
   },
   "outputs": [],
   "source": [
    "for k,v in res.iteritems():\n",
    "    print(\"{0}: {1}\".format(k, len(v['features'])))"
   ]
  },
  {
   "cell_type": "markdown",
   "metadata": {},
   "source": [
    "# Marker Map"
   ]
  },
  {
   "cell_type": "code",
   "execution_count": null,
   "metadata": {
    "collapsed": false
   },
   "outputs": [],
   "source": [
    "wm = folium.Map(location=location, zoom_start=13)\n",
    "for idx, kv in enumerate(res.iteritems()):\n",
    "    if kv[0] not in ['light rail stations']:  continue\n",
    "    print('plotting ' + kv[0])\n",
    "    for feat in kv[1]['features']:\n",
    "#         folium.CircleMarker(location=feat['geometry']['coordinates'][::-1], \n",
    "#                             radius=2000,\n",
    "#                             fill_opacity=.075,\n",
    "#                             fill_color='#B49FCC',\n",
    "#                             color=None).add_to(wm)\n",
    "        folium.CircleMarker(location=feat['geometry']['coordinates'][::-1], \n",
    "                            radius=100,\n",
    "                            fill_opacity=1.0,\n",
    "                            color= '#000000', #colors[idx],\n",
    "                            fill_color=None).add_to(wm)\n",
    "        upsamp = rayleigh_upsample(feat['geometry']['coordinates'][::-1], mean_shift=.01, samples=100, mean=2)\n",
    "        for sub in range(upsamp.shape[0]):\n",
    "            folium.CircleMarker(location=upsamp[sub,:], \n",
    "                                radius=75,\n",
    "                                fill_opacity=.6,\n",
    "                                color= colors[idx],\n",
    "                                ).add_to(wm)\n",
    "wm"
   ]
  },
  {
   "cell_type": "code",
   "execution_count": null,
   "metadata": {
    "collapsed": false
   },
   "outputs": [],
   "source": [
    "res['chipotle']['features'][0]['geometry']"
   ]
  },
  {
   "cell_type": "markdown",
   "metadata": {},
   "source": [
    "# Heatmap"
   ]
  },
  {
   "cell_type": "code",
   "execution_count": null,
   "metadata": {
    "collapsed": false,
    "scrolled": false
   },
   "outputs": [],
   "source": [
    "wm = folium.Map(location=location, zoom_start=13)\n",
    "dists = {}\n",
    "\n",
    "for k, v in res.iteritems():\n",
    "    if k not in ['grocery']: continue\n",
    "    ps = [feat['geometry']['coordinates'][::-1] for feat in v['features']]\n",
    "    dists[k] = { 'data':ps, 'dist':pdist(ps, 'euclidean') }\n",
    "\n",
    "allp = np.array([inner for k, v in dists.iteritems() for inner in v['data'] ])\n",
    "\n",
    "plt.figure(figsize=(13,13))\n",
    "\n",
    "wm.add_children(plugins.HeatMap(data=allp,\n",
    "                               blur=30,\n",
    "                               radius=90,\n",
    "                               gradient=color_gradient,\n",
    "                               min_opacity=.27,\n",
    "                               max_val=.6,\n",
    "                               max_zoom=30))\n",
    "wm"
   ]
  },
  {
   "cell_type": "code",
   "execution_count": null,
   "metadata": {
    "collapsed": false
   },
   "outputs": [],
   "source": [
    "plt.figure(figsize=(13,15))\n",
    "c = 1\n",
    "for k,v in dists.iteritems():\n",
    "    plt.subplot(4,2,c)\n",
    "    plt.hist(v['dist'], bins=25, label=str(k)+str(len(v['dist'])), alpha=.6);\n",
    "    if k == 'grocery': plt.hist(np.random.rayleigh(1.7, 12720) * (0.16 / 2.0), bins=25, label='rayleigh ~( $\\sigma$ 1.7 )', alpha=.37)\n",
    "    plt.axvline(v['dist'].mean(), c='b', linestyle='-.', label='{0:.2}'.format(v['dist'].mean()))\n",
    "    c += 1\n",
    "    plt.legend()"
   ]
  },
  {
   "cell_type": "code",
   "execution_count": null,
   "metadata": {
    "collapsed": false
   },
   "outputs": [],
   "source": [
    "samp = rayleigh_upsample(samples=50000)\n",
    "plt.figure(figsize=(10,10))\n",
    "plt.hexbin(samp[:,0], samp[:,1], cmap=plt.cm.viridis, mincnt=1);"
   ]
  },
  {
   "cell_type": "code",
   "execution_count": null,
   "metadata": {
    "collapsed": true
   },
   "outputs": [],
   "source": []
  }
 ],
 "metadata": {
  "kernelspec": {
   "display_name": "Python 2",
   "language": "python",
   "name": "python2"
  },
  "language_info": {
   "codemirror_mode": {
    "name": "ipython",
    "version": 2
   },
   "file_extension": ".py",
   "mimetype": "text/x-python",
   "name": "python",
   "nbconvert_exporter": "python",
   "pygments_lexer": "ipython2",
   "version": "2.7.11"
  }
 },
 "nbformat": 4,
 "nbformat_minor": 0
}
