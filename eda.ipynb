{
 "cells": [
  {
   "cell_type": "code",
   "execution_count": null,
   "metadata": {
    "collapsed": false
   },
   "outputs": [],
   "source": [
    "import folium\n",
    "from folium import plugins\n",
    "import requests\n",
    "import json\n",
    "import numpy as np\n",
    "from pyArango.connection import *\n",
    "from scipy.spatial.distance import pdist\n",
    "import os\n",
    "import matplotlib.pyplot as plt\n",
    "%matplotlib inline\n",
    "plt.style.use('bmh')"
   ]
  },
  {
   "cell_type": "code",
   "execution_count": null,
   "metadata": {
    "collapsed": false
   },
   "outputs": [],
   "source": [
    "colors = '#58355e #e03616 #fff689 #cfffb0 #5998c5 #B5FFE1 #93E5AB #65B891 #4E878C #00241B'.split()\n",
    "colors_for_gradient = '#1BE7FF #6EEB83 #E4FF1A #E8AA14 #FF5714'.split()\n",
    "color_gradient = dict(zip(np.around(np.linspace(1,0,len(colors_for_gradient)),2),colors_for_gradient))"
   ]
  },
  {
   "cell_type": "code",
   "execution_count": null,
   "metadata": {
    "collapsed": false
   },
   "outputs": [],
   "source": [
    "conn = Connection(username='galvbnk', password='')\n",
    "db   = conn['capstone']\n",
    "col  = db['radar']"
   ]
  },
  {
   "cell_type": "code",
   "execution_count": null,
   "metadata": {
    "collapsed": false
   },
   "outputs": [],
   "source": [
    "def radar(coords, term, db_col, radius=20000, key=''):\n",
    "    params = {'location': '{0},{1}'.format(*coords),\n",
    "              'radius': radius,\n",
    "              'keyword': term,\n",
    "              'key': key}\n",
    "    root = 'https://maps.googleapis.com/maps/api/place/radarsearch/json'\n",
    "    \n",
    "    r = requests.get(root, params=params)\n",
    "    if r.status_code == requests.codes.ok:\n",
    "        collection = {'type': 'FeatureCollection', 'features': [] }\n",
    "\n",
    "        for v in r.json()['results']:\n",
    "            collection['features'].append({'properties': {'name':term}, 'type': 'Feature', 'geometry': { 'type': 'Point',\n",
    "                           'coordinates': [float(v['geometry']['location']['lng']),float(v['geometry']['location']['lat'])]}})\n",
    "        doc = db_col.createDocument(initValues=params)\n",
    "        doc['response'] = r.json()\n",
    "        doc.save()\n",
    "        return collection"
   ]
  },
  {
   "cell_type": "code",
   "execution_count": null,
   "metadata": {
    "collapsed": false
   },
   "outputs": [],
   "source": [
    "location = [39.7047, -105.0814]\n",
    "res = {}\n",
    "res['grocery'] = radar(location, 'king soopers', col, radius=25000)\n",
    "res['chipotle'] = radar(location, 'chipotle', col, radius=25000)\n",
    "res['college'] = radar(location, 'university', col, radius=25000)\n",
    "res['park'] = radar(location, 'park', col, radius=25000)\n",
    "res['oldchicago'] = radar(location, 'old chicago', col, radius=25000)\n",
    "res['hospital'] = radar(location, 'hospital', col, radius=25000)"
   ]
  },
  {
   "cell_type": "code",
   "execution_count": null,
   "metadata": {
    "collapsed": false
   },
   "outputs": [],
   "source": [
    "for k,v in res.iteritems():\n",
    "    print(\"{0}: {1}\".format(k, len(v['features'])))"
   ]
  },
  {
   "cell_type": "code",
   "execution_count": null,
   "metadata": {
    "collapsed": true
   },
   "outputs": [],
   "source": [
    "\n",
    "res['hospital'] = radar(location, 'hospital', radius=25000)"
   ]
  },
  {
   "cell_type": "code",
   "execution_count": null,
   "metadata": {
    "collapsed": false
   },
   "outputs": [],
   "source": [
    "wm = folium.Map(location=location, zoom_start=13)\n",
    "for idx, kv in enumerate(res.itervalues()):\n",
    "    for feat in kv['features']:\n",
    "        folium.CircleMarker(location=feat['geometry']['coordinates'][::-1], \n",
    "                            radius=2000,\n",
    "                            fill_opacity=.075,\n",
    "                            fill_color='#B49FCC',\n",
    "                            color=None).add_to(wm)\n",
    "        folium.CircleMarker(location=feat['geometry']['coordinates'][::-1], \n",
    "                            radius=200,\n",
    "                            fill_opacity=1.0,\n",
    "                            color= colors[idx],\n",
    "                            fill_color=None).add_to(wm)\n",
    "wm"
   ]
  },
  {
   "cell_type": "code",
   "execution_count": null,
   "metadata": {
    "collapsed": false
   },
   "outputs": [],
   "source": [
    "res['chipotle']['features'][0]['geometry']"
   ]
  },
  {
   "cell_type": "code",
   "execution_count": null,
   "metadata": {
    "collapsed": false,
    "scrolled": false
   },
   "outputs": [],
   "source": [
    "wm = folium.Map(location=location, zoom_start=13)\n",
    "dists = {}\n",
    "for k, v in res.iteritems():\n",
    "    if k not in ['chipotle']: continue\n",
    "    ps = [feat['geometry']['coordinates'][::-1] for feat in v['features']]\n",
    "    dists[k] = pdist(ps, 'euclidean')\n",
    "    wm.add_children(plugins.HeatMap(data=ps,\n",
    "                                   blur=30,\n",
    "                                   radius=90,\n",
    "                                   gradient=color_gradient,\n",
    "                                   min_opacity=.47,\n",
    "                                   max_val=.6,\n",
    "                                   max_zoom=20))\n",
    "wm"
   ]
  },
  {
   "cell_type": "code",
   "execution_count": null,
   "metadata": {
    "collapsed": false
   },
   "outputs": [],
   "source": [
    "plt.figure(figsize=(13,15))\n",
    "c = 1\n",
    "for k,v in dists.iteritems():\n",
    "    plt.subplot(4,2,c)\n",
    "    plt.hist(v, bins=20, label=k);\n",
    "    plt.axvline(v.mean(), c='r', linestyle='-.', label='{0:.2}'.format(v.mean()))\n",
    "    c += 1\n",
    "    plt.legend()"
   ]
  },
  {
   "cell_type": "code",
   "execution_count": null,
   "metadata": {
    "collapsed": true
   },
   "outputs": [],
   "source": []
  }
 ],
 "metadata": {
  "kernelspec": {
   "display_name": "Python 2",
   "language": "python",
   "name": "python2"
  },
  "language_info": {
   "codemirror_mode": {
    "name": "ipython",
    "version": 2
   },
   "file_extension": ".py",
   "mimetype": "text/x-python",
   "name": "python",
   "nbconvert_exporter": "python",
   "pygments_lexer": "ipython2",
   "version": "2.7.11"
  }
 },
 "nbformat": 4,
 "nbformat_minor": 0
}
