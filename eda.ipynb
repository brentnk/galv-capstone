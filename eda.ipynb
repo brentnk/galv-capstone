{
 "cells": [
  {
   "cell_type": "code",
   "execution_count": 17,
   "metadata": {
    "collapsed": false
   },
   "outputs": [],
   "source": [
    "import folium\n",
    "from folium import plugins\n",
    "import requests\n",
    "import json\n",
    "import numpy as np\n",
    "from pyArango.connection import *\n",
    "from scipy.spatial.distance import pdist\n",
    "import os\n",
    "from time import sleep\n",
    "import matplotlib.pyplot as plt\n",
    "%matplotlib inline\n",
    "plt.style.use('bmh')"
   ]
  },
  {
   "cell_type": "code",
   "execution_count": 2,
   "metadata": {
    "collapsed": false
   },
   "outputs": [],
   "source": [
    "colors = '#58355e #e03616 #fff689 #cfffb0 #5998c5 #B5FFE1 #93E5AB #65B891 #4E878C #00241B'.split()\n",
    "colors_for_gradient = '#1BE7FF #6EEB83 #E4FF1A #E8AA14 #FF5714'.split()\n",
    "color_gradient = dict(zip(np.around(np.linspace(1,0,len(colors_for_gradient)),2),colors_for_gradient))"
   ]
  },
  {
   "cell_type": "code",
   "execution_count": 3,
   "metadata": {
    "collapsed": false
   },
   "outputs": [],
   "source": [
    "conn = Connection(username='galvbnk', password='')\n",
    "db   = conn['capstone']\n",
    "col  = db['radar']"
   ]
  },
  {
   "cell_type": "code",
   "execution_count": 94,
   "metadata": {
    "collapsed": false
   },
   "outputs": [],
   "source": [
    "def check_cached(lat=0.0, lon=0.0, keyword='', meters=500):\n",
    "    aql = u'''for doc in near('radar', @latt, @lonn, 100, @meters) filter doc.keyword == @keyword return doc'''\n",
    "    bind_vars = {'latt': lat, 'lonn': lon, 'meters': str(meters), 'keyword': keyword}\n",
    "    qres = db.AQLQuery(aql, rawResults=False, batchSize=100, bindVars=bind_vars)\n",
    "    \n",
    "    return qres.response['result']"
   ]
  },
  {
   "cell_type": "code",
   "execution_count": 86,
   "metadata": {
    "collapsed": false
   },
   "outputs": [
    {
     "data": {
      "text/plain": [
       "[u'code', u'extra', u'cached', u'hasMore', u'result', u'error']"
      ]
     },
     "execution_count": 86,
     "metadata": {},
     "output_type": "execute_result"
    }
   ],
   "source": [
    "qres.response.keys()"
   ]
  },
  {
   "cell_type": "code",
   "execution_count": 100,
   "metadata": {
    "collapsed": false
   },
   "outputs": [],
   "source": [
    "def radar(coords, term, db_col, force=False, radius=20000, key=''):\n",
    "    params = {'location': '{0},{1}'.format(*coords),\n",
    "              'radius': radius,\n",
    "              'keyword': term,\n",
    "              'key': key}\n",
    "    root = 'https://maps.googleapis.com/maps/api/place/radarsearch/json'\n",
    "    \n",
    "    cached = check_cached(coords[0], coords[1], keyword=term)\n",
    "    collection = []\n",
    "    \n",
    "    if len(cached) > 0 and not force:\n",
    "        print('Cache hit: {0} {1}'.format(term, coords))\n",
    "        collection = parse_gresults(cached[0]['response']['results'], params)\n",
    "    else:\n",
    "        print('Cache miss: {0} {1}'.format(term, coords))\n",
    "        print('requesting...')\n",
    "        r = requests.get(root, params=params)\n",
    "        if r.status_code == requests.codes.ok:\n",
    "            print('[OK] status complete')\n",
    "            collection = parse_gresults(r.json()['results'], params)\n",
    "\n",
    "            doc = db_col.createDocument(initValues=params)\n",
    "            doc['location'] = coords\n",
    "            doc['response'] = r.json()\n",
    "            doc.save()\n",
    "            print('cached: complete')\n",
    "\n",
    "    return collection"
   ]
  },
  {
   "cell_type": "code",
   "execution_count": 102,
   "metadata": {
    "collapsed": true
   },
   "outputs": [],
   "source": [
    "def parse_gresults(results, params):\n",
    "    collection = {'type': 'FeatureCollection', 'features': [] }\n",
    "\n",
    "    for v in results:\n",
    "        collection['features'].append({'properties': {'name':params['keyword']}, 'type': 'Feature', 'geometry': { 'type': 'Point',\n",
    "                       'coordinates': [float(v['geometry']['location']['lng']),float(v['geometry']['location']['lat'])]}})\n",
    "    return collection"
   ]
  },
  {
   "cell_type": "code",
   "execution_count": 103,
   "metadata": {
    "collapsed": false
   },
   "outputs": [
    {
     "name": "stdout",
     "output_type": "stream",
     "text": [
      "Found cached result\n",
      "Cache hit: grocery [39.7047, -105.0814]\n",
      "Found cached result\n",
      "Cache hit: chipotle [39.7047, -105.0814]\n",
      "Found cached result\n",
      "Cache hit: college [39.7047, -105.0814]\n",
      "Found cached result\n",
      "Cache hit: old chicago [39.7047, -105.0814]\n",
      "Found cached result\n",
      "Cache hit: dennys [39.7047, -105.0814]\n",
      "Found cached result\n",
      "Cache hit: hospital [39.7047, -105.0814]\n"
     ]
    }
   ],
   "source": [
    "location = [39.7047, -105.0814]\n",
    "\n",
    "searches = 'grocery;chipotle;college;old chicago;dennys;hospital'.split(';')\n",
    "\n",
    "res = {}\n",
    "for search in searches:\n",
    "    res[search] = radar(location, search, col, radius=25000)\n",
    "    sleep(1)"
   ]
  },
  {
   "cell_type": "code",
   "execution_count": null,
   "metadata": {
    "collapsed": false
   },
   "outputs": [],
   "source": [
    "for k,v in res.iteritems():\n",
    "    print(\"{0}: {1}\".format(k, len(v['features'])))"
   ]
  },
  {
   "cell_type": "code",
   "execution_count": null,
   "metadata": {
    "collapsed": false
   },
   "outputs": [],
   "source": [
    "wm = folium.Map(location=location, zoom_start=13)\n",
    "for idx, kv in enumerate(res.itervalues()):\n",
    "    for feat in kv['features']:\n",
    "        folium.CircleMarker(location=feat['geometry']['coordinates'][::-1], \n",
    "                            radius=2000,\n",
    "                            fill_opacity=.075,\n",
    "                            fill_color='#B49FCC',\n",
    "                            color=None).add_to(wm)\n",
    "        folium.CircleMarker(location=feat['geometry']['coordinates'][::-1], \n",
    "                            radius=200,\n",
    "                            fill_opacity=1.0,\n",
    "                            color= colors[idx],\n",
    "                            fill_color=None).add_to(wm)\n",
    "wm"
   ]
  },
  {
   "cell_type": "code",
   "execution_count": null,
   "metadata": {
    "collapsed": false
   },
   "outputs": [],
   "source": [
    "res['chipotle']['features'][0]['geometry']"
   ]
  },
  {
   "cell_type": "code",
   "execution_count": 14,
   "metadata": {
    "collapsed": false,
    "scrolled": false
   },
   "outputs": [
    {
     "data": {
      "text/html": [
       "<div style=\"width:100%;\"><div style=\"position:relative;width:100%;height:0;padding-bottom:60%;\"><iframe src=\"data:text/html;base64,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\" style=\"position:absolute;width:100%;height:100%;left:0;top:0;\"></iframe></div></div>"
      ],
      "text/plain": [
       "<folium.folium.Map at 0x7fd4e3369910>"
      ]
     },
     "execution_count": 14,
     "metadata": {},
     "output_type": "execute_result"
    }
   ],
   "source": [
    "wm = folium.Map(location=location, zoom_start=13)\n",
    "dists = {}\n",
    "for k, v in res.iteritems():\n",
    "    if k not in ['chipotle']: continue\n",
    "    ps = [feat['geometry']['coordinates'][::-1] for feat in v['features']]\n",
    "    dists[k] = pdist(ps, 'euclidean')\n",
    "    wm.add_children(plugins.HeatMap(data=ps,\n",
    "                                   blur=30,\n",
    "                                   radius=90,\n",
    "                                   gradient=color_gradient,\n",
    "                                   min_opacity=.47,\n",
    "                                   max_val=.6,\n",
    "                                   max_zoom=20))\n",
    "wm"
   ]
  },
  {
   "cell_type": "code",
   "execution_count": 104,
   "metadata": {
    "collapsed": false
   },
   "outputs": [
    {
     "data": {
      "image/png": "[encoded data removed]",
      "text/plain": [
       "<matplotlib.figure.Figure at 0x7fd4d8d46290>"
      ]
     },
     "metadata": {},
     "output_type": "display_data"
    }
   ],
   "source": [
    "plt.figure(figsize=(13,15))\n",
    "c = 1\n",
    "for k,v in dists.iteritems():\n",
    "    plt.subplot(4,2,c)\n",
    "    plt.hist(v, bins=20, label=k);\n",
    "    plt.axvline(v.mean(), c='r', linestyle='-.', label='{0:.2}'.format(v.mean()))\n",
    "    c += 1\n",
    "    plt.legend()"
   ]
  },
  {
   "cell_type": "code",
   "execution_count": null,
   "metadata": {
    "collapsed": true
   },
   "outputs": [],
   "source": []
  }
 ],
 "metadata": {
  "kernelspec": {
   "display_name": "Python 2",
   "language": "python",
   "name": "python2"
  },
  "language_info": {
   "codemirror_mode": {
    "name": "ipython",
    "version": 2
   },
   "file_extension": ".py",
   "mimetype": "text/x-python",
   "name": "python",
   "nbconvert_exporter": "python",
   "pygments_lexer": "ipython2",
   "version": "2.7.11"
  }
 },
 "nbformat": 4,
 "nbformat_minor": 0
}
