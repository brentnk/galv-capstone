{
 "cells": [
  {
   "cell_type": "code",
   "execution_count": null,
   "metadata": {
    "collapsed": false
   },
   "outputs": [],
   "source": [
    "import folium\n",
    "from folium import plugins\n",
    "import requests\n",
    "import json\n",
    "import numpy as np\n",
    "from pyArango.connection import *\n",
    "from scipy.spatial.distance import pdist\n",
    "import os\n",
    "from time import sleep\n",
    "import matplotlib.pyplot as plt\n",
    "%matplotlib inline\n",
    "plt.style.use('bmh')"
   ]
  },
  {
   "cell_type": "code",
   "execution_count": null,
   "metadata": {
    "collapsed": false
   },
   "outputs": [],
   "source": [
    "colors = '#58355e #e03616 #fff689 #cfffb0 #5998c5 #B5FFE1 #93E5AB #65B891 #4E878C #00241B'.split()\n",
    "colors_for_gradient = '#1BE7FF #6EEB83 #E4FF1A #E8AA14 #FF5714'.split()\n",
    "color_gradient = dict(zip(np.around(np.linspace(1,0,len(colors_for_gradient)),2),colors_for_gradient))"
   ]
  },
  {
   "cell_type": "code",
   "execution_count": null,
   "metadata": {
    "collapsed": false
   },
   "outputs": [],
   "source": [
    "conn = Connection(username='galvbnk', password='')\n",
    "db   = conn['capstone']\n",
    "col  = db['radar']"
   ]
  },
  {
   "cell_type": "markdown",
   "metadata": {},
   "source": [
    "# Helper Functions"
   ]
  },
  {
   "cell_type": "code",
   "execution_count": null,
   "metadata": {
    "collapsed": false
   },
   "outputs": [],
   "source": [
    "def check_cached(lat=0.0, lon=0.0, keyword='', meters=500):\n",
    "    aql = u'''for doc in near('radar', @latt, @lonn, 100, @meters) filter doc.keyword == @keyword return doc'''\n",
    "    bind_vars = {'latt': lat, 'lonn': lon, 'meters': str(meters), 'keyword': keyword}\n",
    "    qres = db.AQLQuery(aql, rawResults=False, batchSize=100, bindVars=bind_vars)\n",
    "    \n",
    "    return qres.response['result']"
   ]
  },
  {
   "cell_type": "code",
   "execution_count": null,
   "metadata": {
    "collapsed": false
   },
   "outputs": [],
   "source": [
    "def radar(coords, term, db_col, force=False, radius=20000, key=''):\n",
    "    params = {'location': '{0},{1}'.format(*coords),\n",
    "              'radius': radius,\n",
    "              'keyword': term,\n",
    "              'key': key}\n",
    "    root = 'https://maps.googleapis.com/maps/api/place/radarsearch/json'\n",
    "    \n",
    "    cached = check_cached(coords[0], coords[1], keyword=term)\n",
    "    collection = []\n",
    "    \n",
    "    if len(cached) > 0 and not force:\n",
    "        print('Cache hit: {0} {1}'.format(term, coords))\n",
    "        collection = parse_gresults(cached[0]['response']['results'], params)\n",
    "    else:\n",
    "        print('Cache miss: {0} {1}'.format(term, coords))\n",
    "        print('requesting...')\n",
    "        r = requests.get(root, params=params)\n",
    "        if r.status_code == requests.codes.ok:\n",
    "            print('[OK] status complete')\n",
    "            collection = parse_gresults(r.json()['results'], params)\n",
    "\n",
    "            doc = db_col.createDocument(initValues=params)\n",
    "            doc['location'] = coords\n",
    "            doc['response'] = r.json()\n",
    "            doc.save()\n",
    "            print('cached: complete')\n",
    "\n",
    "    return collection"
   ]
  },
  {
   "cell_type": "code",
   "execution_count": null,
   "metadata": {
    "collapsed": true
   },
   "outputs": [],
   "source": [
    "def parse_gresults(results, params):\n",
    "    collection = {'type': 'FeatureCollection', 'features': [] }\n",
    "\n",
    "    for v in results:\n",
    "        collection['features'].append({'properties': {'name':params['keyword']}, 'type': 'Feature', 'geometry': { 'type': 'Point',\n",
    "                       'coordinates': [float(v['geometry']['location']['lng']),float(v['geometry']['location']['lat'])]}})\n",
    "    return collection"
   ]
  },
  {
   "cell_type": "markdown",
   "metadata": {},
   "source": [
    "# Main Driver"
   ]
  },
  {
   "cell_type": "code",
   "execution_count": null,
   "metadata": {
    "collapsed": false
   },
   "outputs": [],
   "source": [
    "location = [39.7047, -105.0814]\n",
    "\n",
    "searches = 'grocery;chipotle;college;old chicago;dennys;hospital'.split(';')\n",
    "\n",
    "res = {}\n",
    "for search in searches:\n",
    "    res[search] = radar(location, search, col, radius=25000)\n",
    "    sleep(1)"
   ]
  },
  {
   "cell_type": "code",
   "execution_count": null,
   "metadata": {
    "collapsed": false
   },
   "outputs": [],
   "source": [
    "for k,v in res.iteritems():\n",
    "    print(\"{0}: {1}\".format(k, len(v['features'])))"
   ]
  },
  {
   "cell_type": "markdown",
   "metadata": {},
   "source": [
    "# Marker Map"
   ]
  },
  {
   "cell_type": "code",
   "execution_count": null,
   "metadata": {
    "collapsed": false
   },
   "outputs": [],
   "source": [
    "wm = folium.Map(location=location, zoom_start=13)\n",
    "for idx, kv in enumerate(res.itervalues()):\n",
    "    for feat in kv['features']:\n",
    "        folium.CircleMarker(location=feat['geometry']['coordinates'][::-1], \n",
    "                            radius=2000,\n",
    "                            fill_opacity=.075,\n",
    "                            fill_color='#B49FCC',\n",
    "                            color=None).add_to(wm)\n",
    "        folium.CircleMarker(location=feat['geometry']['coordinates'][::-1], \n",
    "                            radius=200,\n",
    "                            fill_opacity=1.0,\n",
    "                            color= colors[idx],\n",
    "                            fill_color=None).add_to(wm)\n",
    "wm"
   ]
  },
  {
   "cell_type": "code",
   "execution_count": null,
   "metadata": {
    "collapsed": false
   },
   "outputs": [],
   "source": [
    "res['chipotle']['features'][0]['geometry']"
   ]
  },
  {
   "cell_type": "markdown",
   "metadata": {},
   "source": [
    "# Heatmap"
   ]
  },
  {
   "cell_type": "code",
   "execution_count": null,
   "metadata": {
    "collapsed": false,
    "scrolled": false
   },
   "outputs": [],
   "source": [
    "wm = folium.Map(location=location, zoom_start=13)\n",
    "dists = {}\n",
    "\n",
    "for k, v in res.iteritems():\n",
    "#     if k not in ['chipotle', 'dennys']: continue\n",
    "    ps = [feat['geometry']['coordinates'][::-1] for feat in v['features']]\n",
    "    dists[k] = { 'data':ps, 'dist':pdist(ps, 'euclidean') }\n",
    "\n",
    "allp = np.array([inner for k, v in dists.iteritems() for inner in v['data'] ])\n",
    "\n",
    "hexplot = plt.hexbin(x=allp[:,1], y=allp[:,0])\n",
    "\n",
    "wm.image_overlay()\n",
    "\n",
    "wm.add_children(plugins.HeatMap(data=allp,\n",
    "                               blur=30,\n",
    "                               radius=90,\n",
    "                               gradient=color_gradient,\n",
    "                               min_opacity=.27,\n",
    "                               max_val=.6,\n",
    "                               max_zoom=30))\n",
    "wm"
   ]
  },
  {
   "cell_type": "code",
   "execution_count": null,
   "metadata": {
    "collapsed": false
   },
   "outputs": [],
   "source": [
    "plt.figure(figsize=(13,15))\n",
    "c = 1\n",
    "for k,v in dists.iteritems():\n",
    "    plt.subplot(4,2,c)\n",
    "    plt.hist(v['dist'], bins=25, label=k);\n",
    "    plt.axvline(v['dist'].mean(), c='r', linestyle='-.', label='{0:.2}'.format(v['dist'].mean()))\n",
    "    c += 1\n",
    "    plt.legend()"
   ]
  },
  {
   "cell_type": "code",
   "execution_count": null,
   "metadata": {
    "collapsed": true
   },
   "outputs": [],
   "source": []
  }
 ],
 "metadata": {
  "kernelspec": {
   "display_name": "Python 2",
   "language": "python",
   "name": "python2"
  },
  "language_info": {
   "codemirror_mode": {
    "name": "ipython",
    "version": 2
   },
   "file_extension": ".py",
   "mimetype": "text/x-python",
   "name": "python",
   "nbconvert_exporter": "python",
   "pygments_lexer": "ipython2",
   "version": "2.7.11"
  }
 },
 "nbformat": 4,
 "nbformat_minor": 0
}
