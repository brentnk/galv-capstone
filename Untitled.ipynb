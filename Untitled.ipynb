{
 "cells": [
  {
   "cell_type": "code",
   "execution_count": 26,
   "metadata": {
    "collapsed": true
   },
   "outputs": [],
   "source": [
    "import pandas as pd\n",
    "import matplotlib.pyplot as plt\n",
    "%matplotlib inline\n",
    "plt.style.use('bmh')"
   ]
  },
  {
   "cell_type": "code",
   "execution_count": 2,
   "metadata": {
    "collapsed": false
   },
   "outputs": [
    {
     "name": "stderr",
     "output_type": "stream",
     "text": [
      "/home/brentn/anaconda2/lib/python2.7/site-packages/IPython/core/interactiveshell.py:2723: DtypeWarning: Columns (11,12,13,20,32,33,39) have mixed types. Specify dtype option on import or set low_memory=False.\n",
      "  interactivity=interactivity, compiler=compiler, result=result)\n"
     ]
    }
   ],
   "source": [
    "df = pd.read_csv('/home/brentn/datasets/parcels.csv')"
   ]
  },
  {
   "cell_type": "code",
   "execution_count": 11,
   "metadata": {
    "collapsed": false
   },
   "outputs": [],
   "source": [
    "df = df.rename_axis(lambda a: a.lower(), axis=1)"
   ]
  },
  {
   "cell_type": "code",
   "execution_count": 19,
   "metadata": {
    "collapsed": false
   },
   "outputs": [
    {
     "data": {
      "text/plain": [
       "Index([u'pin', u'schednum', u'mapnum', u'blknum', u'parcelnum', u'appendage',\n",
       "       u'parcel_source', u'system_start_date', u'owner_name',\n",
       "       u'owner_address_line1', u'owner_address_line2',\n",
       "       u'owner_addr_nbr_prefix', u'owner_addr_nbr', u'owner_addr_nbr_suffix',\n",
       "       u'owner_str_name_pre_mod', u'owner_str_name_pre_dir',\n",
       "       u'owner_str_name_pre_type', u'owner_str_name',\n",
       "       u'owner_str_name_post_type', u'owner_str_name_post_dir',\n",
       "       u'owner_str_name_post_mod', u'owner_unit_type', u'owner_unit_ident',\n",
       "       u'owner_city', u'owner_state', u'owner_zip', u'situs_address_id',\n",
       "       u'situs_address_line1', u'situs_address_line2', u'situs_city',\n",
       "       u'situs_state', u'situs_zip', u'situs_addr_nbr',\n",
       "       u'situs_addr_nbr_suffix', u'situs_str_name_pre_mod',\n",
       "       u'situs_str_name_pre_dir', u'situs_str_name_pre_type',\n",
       "       u'situs_str_name', u'situs_str_name_post_type',\n",
       "       u'situs_str_name_post_dir', u'situs_str_name_post_mod',\n",
       "       u'situs_unit_type', u'situs_unit_ident', u'tax_dist', u'land_value',\n",
       "       u'improvement_value', u'improvements', u'prop_class', u'total_value',\n",
       "       u'land', u'd_class', u'd_class_cn', u'dcl12', u'act_zone', u'imp_area',\n",
       "       u'ccyrblt', u'asal_instr', u'sale_monthday', u'sale_year',\n",
       "       u'sale_price', u'reception_num', u'globalid'],\n",
       "      dtype='object')"
      ]
     },
     "execution_count": 19,
     "metadata": {},
     "output_type": "execute_result"
    }
   ],
   "source": [
    "df.columns"
   ]
  },
  {
   "cell_type": "code",
   "execution_count": 33,
   "metadata": {
    "collapsed": false
   },
   "outputs": [
    {
     "data": {
      "text/plain": [
       "146421   NaN\n",
       "Name: sale_price, dtype: float64"
      ]
     },
     "execution_count": 33,
     "metadata": {},
     "output_type": "execute_result"
    }
   ],
   "source": [
    "df[df.owner_name.str.contains('NKOMO').fillna(False)]['sale_price']"
   ]
  },
  {
   "cell_type": "code",
   "execution_count": 35,
   "metadata": {
    "collapsed": false
   },
   "outputs": [
    {
     "data": {
      "image/png": "[encoded data removed]",
      "text/plain": [
       "<matplotlib.figure.Figure at 0x7f55da50edd0>"
      ]
     },
     "metadata": {},
     "output_type": "display_data"
    }
   ],
   "source": [
    "df.sale_price.plot.hist(bins=25);"
   ]
  }
 ],
 "metadata": {
  "kernelspec": {
   "display_name": "Python 2",
   "language": "python",
   "name": "python2"
  },
  "language_info": {
   "codemirror_mode": {
    "name": "ipython",
    "version": 2
   },
   "file_extension": ".py",
   "mimetype": "text/x-python",
   "name": "python",
   "nbconvert_exporter": "python",
   "pygments_lexer": "ipython2",
   "version": "2.7.11"
  }
 },
 "nbformat": 4,
 "nbformat_minor": 0
}
